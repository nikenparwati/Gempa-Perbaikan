{
 "cells": [
  {
   "cell_type": "markdown",
   "metadata": {},
   "source": [
    "# Capstone Webscraping using BeautifulSoup\n",
    "\n",
    "This notebook contains guidances & tasks on the data processing for the application\n",
    "\n",
    "## Background\n",
    "\n",
    "Capstone dengan topik Webscraping ini berfungsi untuk mempelajari bagaimana cara mengambil data mengenai berita dari website. Dengan menggunakan kata kunci tertentu, kita peroleh beritanya kemudian kita mencari codingnya dengan menggunakan inspect. Lalu setelah HTML diperoleh, tinggal kita cari koding buat bagian2 yang akan kita ambil sebagai kolom. Misalkan di tugas ini adalah title, description, dan datenya. Kemudian kita ambil data text nya, lalu kita buat tabelnya. \n",
    "Setelah itu kita buat word cloud nya\n",
    "\n",
    "## Requesting the Data and Creating a BeautifulSoup\n",
    "\n",
    "Let's start by requesting the webpage using the `get` method from the `requests` library."
   ]
  },
  {
   "cell_type": "code",
   "execution_count": 10,
   "metadata": {
    "ExecuteTime": {
     "end_time": "2020-01-13T05:12:23.275508Z",
     "start_time": "2020-01-13T05:12:20.009898Z"
    }
   },
   "outputs": [],
   "source": [
    "import requests\n",
    "\n",
    "url_get = requests.get('https://www.detik.com/search/searchall?query=gempa')"
   ]
  },
  {
   "cell_type": "markdown",
   "metadata": {},
   "source": [
    "To visualize what exactly you get from the `request.get`, we can use `.content` so see what we exactly get (HTML content), in here i slice it so it won't make our screen full of the html we get from the page. You can delete the slicing if you want to see what we fully get."
   ]
  },
  {
   "cell_type": "code",
   "execution_count": 11,
   "metadata": {
    "ExecuteTime": {
     "end_time": "2020-01-13T05:12:23.290648Z",
     "start_time": "2020-01-13T05:12:23.277650Z"
    }
   },
   "outputs": [
    {
     "data": {
      "text/plain": [
       "b'!DOCTYPE html>\\r\\n<html lang=\"id-ID\">\\r\\n\\t<head>\\r\\n\\t<link rel=\"preconnect\" href=\"https://awscdn.detik.net.id\"><link rel=\"preconnect\" href=\"https://awscdn.detik.net.id\" crossorigin><link rel=\"preconnect\" href=\"https://cdn.detik.net.id\"><link rel=\"preconnect\" href=\"https://cdn.detik.net.id\" crossorigin>\\t<link rel=\"dns-prefetch\" href=\"https://cdn.detik.net.id\"/><link rel=\"dns-prefetch\" href=\"https://akcdn.detik.net.id\"/><link rel=\"dns-prefetch\" href=\"https://cdnv.detik.net.id\"/><link rel=\"dns-prefetch\"'"
      ]
     },
     "execution_count": 11,
     "metadata": {},
     "output_type": "execute_result"
    }
   ],
   "source": [
    "url_get.content[1:500]"
   ]
  },
  {
   "cell_type": "markdown",
   "metadata": {},
   "source": [
    "As we can see we get a very unstructured and complex html, which actually contains the codes needed to show the webpages on your web browser. But we as human still confused what and where we can use that piece of code, so here where we use the beautifulsoup. Beautiful soup class will result a beautifulsoup object. Beautiful Soup transforms a complex HTML document into a complex tree of Python objects. \n",
    "\n",
    "Let's create a BeautifulSoup object and feel free to explore the object here."
   ]
  },
  {
   "cell_type": "code",
   "execution_count": 12,
   "metadata": {
    "ExecuteTime": {
     "end_time": "2020-01-13T05:12:23.808122Z",
     "start_time": "2020-01-13T05:12:23.292610Z"
    }
   },
   "outputs": [
    {
     "name": "stdout",
     "output_type": "stream",
     "text": [
      "<class 'bs4.BeautifulSoup'>\n"
     ]
    }
   ],
   "source": [
    "from bs4 import BeautifulSoup \n",
    "\n",
    "soup = BeautifulSoup(url_get.content,\"html.parser\")\n",
    "print(type(soup))"
   ]
  },
  {
   "cell_type": "code",
   "execution_count": 13,
   "metadata": {},
   "outputs": [
    {
     "name": "stdout",
     "output_type": "stream",
     "text": [
      "<!DOCTYPE html>\n",
      "<html lang=\"id-ID\">\n",
      " <head>\n",
      "  <link href=\"https://awscdn.detik.net.id\" rel=\"preconnect\"/>\n",
      "  <link crossorigin=\"\" href=\"https://awscdn.detik.net.id\" rel=\"preconnect\"/>\n",
      "  <link href=\"https://cdn.detik.net.id\" rel=\"preconnect\"/>\n",
      "  <link crossorigin=\"\" href=\"https://cdn.detik.net.id\" rel=\"preconnect\"/>\n",
      "  <link href=\"https://cdn.detik.net.id\" rel=\"dns-prefetch\">\n",
      "   <link href=\"https://akcdn.detik.net.id\" rel=\"dns-prefetch\">\n",
      "    <link href=\"https://cdnv.detik.net.id\" rel=\"dns-prefetch\"\n"
     ]
    }
   ],
   "source": [
    "print(soup.prettify()[:500])"
   ]
  },
  {
   "cell_type": "markdown",
   "metadata": {},
   "source": [
    "## Finding the right key to scrap the data & Extracting the right information"
   ]
  },
  {
   "cell_type": "markdown",
   "metadata": {},
   "source": [
    "To extract the desired information, we need to find the right key using the .find() method. We can explore the HTML structure using .prettify().\n",
    "\n",
    "disini kita mencari tagnya, disini kebetulan 'div' walaupun nanti dibag lain bisa saja lainnya, misalnya 'h3', lalu setelah itu kita cari yang unik, disini attribut, class, sesuai websitenya masing-masing. Kemudian kita lihat informasinya."
   ]
  },
  {
   "cell_type": "code",
   "execution_count": 14,
   "metadata": {
    "ExecuteTime": {
     "end_time": "2020-01-13T05:12:23.878904Z",
     "start_time": "2020-01-13T05:12:23.854974Z"
    }
   },
   "outputs": [
    {
     "name": "stdout",
     "output_type": "stream",
     "text": [
      "div class=\"list-content\">\n",
      " <article class=\"list-content__item\">\n",
      "  <div class=\"media media--right media--image-radius block-link\">\n",
      "   <div class=\"media__image\">\n",
      "    <a class=\"media__link\" dtr-act=\"artikel\" dtr-evt=\"search result relevansi\" dtr-id=\"7516948\" dtr-idx=\"1\" dtr-sec=\"search result relevansi\" dtr-ttl=\"Gempa M 4,1 Terjadi di Merangin Jambi\" href=\"https://news.detik.com/berita/d-7516948/gempa-m-4-1-terjadi-di-merangin-jambi\" onclick=\"_pt(this)\">\n",
      "     <span class=\"ratiobox ratiobox--4-3 lq\n"
     ]
    }
   ],
   "source": [
    "table = soup.find('div', attrs={'class':'list-content'})\n",
    "print(table.prettify()[1:500])"
   ]
  },
  {
   "cell_type": "code",
   "execution_count": 15,
   "metadata": {},
   "outputs": [
    {
     "data": {
      "text/plain": [
       "[<h3 class=\"media__title\">\n",
       " <a class=\"media__link\" dtr-act=\"artikel\" dtr-evt=\"search result relevansi\" dtr-id=\"7516948\" dtr-idx=\"1\" dtr-sec=\"search result relevansi\" dtr-ttl=\"Gempa M 4,1 Terjadi di Merangin Jambi\" href=\"https://news.detik.com/berita/d-7516948/gempa-m-4-1-terjadi-di-merangin-jambi\" onclick=\"_pt(this)\">Gempa M 4,1 Terjadi di Merangin Jambi</a>\n",
       " </h3>,\n",
       " <h3 class=\"media__title\">\n",
       " <a class=\"media__link\" dtr-act=\"artikel\" dtr-evt=\"search result relevansi\" dtr-id=\"7517100\" dtr-idx=\"2\" dtr-sec=\"search result relevansi\" dtr-ttl=\"BMKG Akui Upayakan 'Memprediksi' Gempa, Tapi Hasilnya...\" href=\"https://www.detik.com/edu/detikpedia/d-7517100/bmkg-akui-upayakan-memprediksi-gempa-tapi-hasilnya\" onclick=\"_pt(this)\">BMKG Akui Upayakan 'Memprediksi' Gempa, Tapi Hasilnya...</a>\n",
       " </h3>,\n",
       " <h3 class=\"media__title\">\n",
       " <a class=\"media__link\" dtr-act=\"artikel\" dtr-evt=\"search result relevansi\" dtr-id=\"7517226\" dtr-idx=\"3\" dtr-sec=\"search result relevansi\" dtr-ttl=\"Tapsel Diguncang Gempa Berkekuatan M 3,3 Malam Ini\" href=\"https://www.detik.com/sumut/berita/d-7517226/tapsel-diguncang-gempa-berkekuatan-m-3-3-malam-ini\" onclick=\"_pt(this)\">Tapsel Diguncang Gempa Berkekuatan M 3,3 Malam Ini</a>\n",
       " </h3>,\n",
       " <h3 class=\"media__title\">\n",
       " <a class=\"media__link\" dtr-act=\"artikel video\" dtr-evt=\"search result relevansi video\" dtr-id=\"240829084\" dtr-idx=\"1\" dtr-sec=\"search result relevansi video\" dtr-ttl=\"Mengenal Fungsi Alat Penerima Informasi Gempa Bumi dan Tsunami\" href=\"https://20.detik.com/detikupdate/20240829-240829084/mengenal-fungsi-alat-penerima-informasi-gempa-bumi-dan-tsunami\" onclick=\"_pt(this)\">Mengenal Fungsi Alat Penerima Informasi Gempa Bumi dan Tsunami</a>\n",
       " </h3>,\n",
       " <h3 class=\"media__title\">\n",
       " <a class=\"media__link\" dtr-act=\"artikel\" dtr-evt=\"search result relevansi\" dtr-id=\"7516833\" dtr-idx=\"4\" dtr-sec=\"search result relevansi\" dtr-ttl=\"Gempa Berkekuatan M 3,4 Guncang Tapanuli Tengah Ini\" href=\"https://www.detik.com/sumut/berita/d-7516833/gempa-berkekuatan-m-3-4-guncang-tapanuli-tengah-ini\" onclick=\"_pt(this)\">Gempa Berkekuatan M 3,4 Guncang Tapanuli Tengah Ini</a>\n",
       " </h3>,\n",
       " <h3 class=\"media__title\">\n",
       " <a class=\"media__link\" dtr-act=\"artikel\" dtr-evt=\"search result relevansi\" dtr-id=\"7514654\" dtr-idx=\"5\" dtr-sec=\"search result relevansi\" dtr-ttl=\"Penjelasan BMKG soal Gempa di Gunungkidul, Termasuk di Zona Megathrust atau Bukan?\" href=\"https://www.detik.com/edu/detikpedia/d-7514654/penjelasan-bmkg-soal-gempa-di-gunungkidul-termasuk-di-zona-megathrust-atau-bukan\" onclick=\"_pt(this)\">Penjelasan BMKG soal Gempa di Gunungkidul, Termasuk di Zona Megathrust atau Bukan?</a>\n",
       " </h3>,\n",
       " <h3 class=\"media__title\">\n",
       " <a class=\"media__link\" dtr-act=\"artikel\" dtr-evt=\"search result relevansi\" dtr-id=\"7510478\" dtr-idx=\"6\" dtr-sec=\"search result relevansi\" dtr-ttl=\"Gempa M 6,2 Guncang Tanimbar\" href=\"https://news.detik.com/berita/d-7510478/gempa-m-6-2-guncang-tanimbar\" onclick=\"_pt(this)\">Gempa M 6,2 Guncang Tanimbar</a>\n",
       " </h3>,\n",
       " <h3 class=\"media__title\">\n",
       " <a class=\"media__link\" dtr-act=\"artikel foto\" dtr-evt=\"search result relevansi foto\" dtr-id=\"7516398\" dtr-idx=\"1\" dtr-sec=\"search result relevansi foto\" dtr-ttl=\"Momen Siswa SD Belajar Penanganan Bencana Gempa Bumi\" href=\"https://www.detik.com/edu/foto/d-7516398/momen-siswa-sd-belajar-penanganan-bencana-gempa-bumi\" onclick=\"_pt(this)\">Momen Siswa SD Belajar Penanganan Bencana Gempa Bumi</a>\n",
       " </h3>,\n",
       " <h3 class=\"media__title\">\n",
       " <a class=\"media__link\" dtr-act=\"artikel\" dtr-evt=\"search result relevansi\" dtr-id=\"7510523\" dtr-idx=\"7\" dtr-sec=\"search result relevansi\" dtr-ttl=\"Gempa M 4,9 Guncang Sumba NTT\" href=\"https://news.detik.com/berita/d-7510523/gempa-m-4-9-guncang-sumba-ntt\" onclick=\"_pt(this)\">Gempa M 4,9 Guncang Sumba NTT</a>\n",
       " </h3>,\n",
       " <h3 class=\"media__title\">\n",
       " <a class=\"media__link\" dtr-act=\"artikel\" dtr-evt=\"search result relevansi\" dtr-id=\"7511459\" dtr-idx=\"8\" dtr-sec=\"search result relevansi\" dtr-ttl=\"2 Warga Pacitan Patah Tulang Dampak Gempa Gunungkidul\" href=\"https://www.detik.com/jatim/berita/d-7511459/2-warga-pacitan-patah-tulang-dampak-gempa-gunungkidul\" onclick=\"_pt(this)\">2 Warga Pacitan Patah Tulang Dampak Gempa Gunungkidul</a>\n",
       " </h3>,\n",
       " <h3 class=\"media__title\">\n",
       " <a class=\"media__link\" dtr-act=\"artikel\" dtr-evt=\"search result relevansi\" dtr-id=\"7510276\" dtr-idx=\"9\" dtr-sec=\"search result relevansi\" dtr-ttl=\"13 Rumah Dilaporkan Rusak Akibat Gempa di Yogyakarta\" href=\"https://news.detik.com/detiktv/d-7510276/13-rumah-dilaporkan-rusak-akibat-gempa-di-yogyakarta\" onclick=\"_pt(this)\">13 Rumah Dilaporkan Rusak Akibat Gempa di Yogyakarta</a>\n",
       " </h3>,\n",
       " <h3 class=\"media__title\">\n",
       " <a class=\"media__link\" dtr-act=\"artikel\" dtr-evt=\"search result relevansi\" dtr-id=\"7510005\" dtr-idx=\"10\" dtr-sec=\"search result relevansi\" dtr-ttl=\"Gempa M 5,8 Guncang Yogya\" href=\"https://news.detik.com/berita/d-7510005/gempa-m-5-8-guncang-yogya\" onclick=\"_pt(this)\">Gempa M 5,8 Guncang Yogya</a>\n",
       " </h3>]"
      ]
     },
     "execution_count": 15,
     "metadata": {},
     "output_type": "execute_result"
    }
   ],
   "source": [
    "table.find_all('h3', attrs={'class':'media__title'})"
   ]
  },
  {
   "cell_type": "code",
   "execution_count": 16,
   "metadata": {},
   "outputs": [
    {
     "data": {
      "text/plain": [
       "[<div class=\"media__desc\">\n",
       "             Gempa dengan kekuatan magnitudo (M) 4,1 terjadi di Merangin, Jambi. Pusat gempa berada di kedalaman 75 km.         </div>,\n",
       " <div class=\"media__desc\">\n",
       "             BMKG mengakui pihaknya mengupayakan \"memprediksi\" gempa bumi. Namun hasilnya...         </div>,\n",
       " <div class=\"media__desc\">\n",
       "             Gempa magnitudo 3,3 mengguncang Tapanuli Selatan pada 30 Agustus 2024, pukul 18.55 WIB. BMKG menyatakan tidak ada potensi tsunami.         </div>,\n",
       " <div class=\"media__desc\">\n",
       "             Gempa berkekuatan magnitudo 3,4 mengguncang Kabupaten Tapanuli Tengah hari ini. Gempa tersebut terjadi pada pukul 16.09 WIB.         </div>,\n",
       " <div class=\"media__desc\">\n",
       "             Senin lalu (26/8/2024), terjadi gempa bumi di selatan Gunungkidul, Yogyakarta. Apakah termasuk gempa di zona megathrust?         </div>,\n",
       " <div class=\"media__desc\">\n",
       "             Gempa bermagnitudo 6,2 terjadi di Tanimbar, Maluku. Gempa tidak berpotensi tsunami.         </div>,\n",
       " <div class=\"media__desc\">\n",
       "             Gempamagnitudo 4,9 terjadi di Nusa Tenggara Timur (NTT). Gempa memiliki kedalaman 16 km.         </div>,\n",
       " <div class=\"media__desc\">\n",
       "             Dua warga Pacitan cedera usai gempa Gunungkidul, Senin (26/8/2024). Mereka mengalami patah tulang dan sedang menjalani perawatan di RSUD dr Darsono, Pacitan.         </div>,\n",
       " <div class=\"media__desc\">\n",
       "             Sejumlah bangunan dilaporkan mengalami kerusakan imbas gempa M 5,8 di Yogyakarta, Senin(26/8). Total ada 13 bangunan yang mengalami kerusakan ringan.         </div>,\n",
       " <div class=\"media__desc\">\n",
       "             Yogyakarta dan sekitarnya diguncang gempa bermagnitudo (M) 5,8. Gempa ini berpusat di laut selatan Jawa.         </div>]"
      ]
     },
     "execution_count": 16,
     "metadata": {},
     "output_type": "execute_result"
    }
   ],
   "source": [
    "#description\n",
    "table.find_all('div', attrs={'class':'media__desc'})"
   ]
  },
  {
   "cell_type": "code",
   "execution_count": 17,
   "metadata": {},
   "outputs": [
    {
     "data": {
      "text/plain": [
       "[<div class=\"media__date\">\n",
       " <span d-time=\"1725011862\" title=\"Jumat, 30 Agu 2024 16:57 WIB\">2 jam yang lalu</span> </div>,\n",
       " <div class=\"media__date\">\n",
       " <span d-time=\"1725017400\" title=\"Jumat, 30 Agu 2024 18:30 WIB\">56 menit yang lalu</span> </div>,\n",
       " <div class=\"media__date\">\n",
       " <span d-time=\"1725020373\" title=\"Jumat, 30 Agu 2024 19:19 WIB\">6 menit yang lalu</span> </div>,\n",
       " <div class=\"media__date\">\n",
       " <span d-time=\"1724914849\" title=\"Kamis, 29 Agu 2024 14:00 WIB\">Kamis, 29 Agu 2024 14:00 WIB</span> </div>,\n",
       " <div class=\"media__date\">\n",
       " <span d-time=\"1725010708\" title=\"Jumat, 30 Agu 2024 16:38 WIB\">2 jam yang lalu</span> </div>,\n",
       " <div class=\"media__date\">\n",
       " <span d-time=\"1724916636\" title=\"Kamis, 29 Agu 2024 14:30 WIB\">Kamis, 29 Agu 2024 14:30 WIB</span> </div>,\n",
       " <div class=\"media__date\">\n",
       " <span d-time=\"1724726039\" title=\"Selasa, 27 Agu 2024 09:33 WIB\">Selasa, 27 Agu 2024 09:33 WIB</span> </div>,\n",
       " <div class=\"media__date\">\n",
       " <span d-time=\"1725004834\" title=\"Jumat, 30 Agu 2024 15:00 WIB\">4 jam yang lalu</span> </div>,\n",
       " <div class=\"media__date\">\n",
       " <span d-time=\"1724727876\" title=\"Selasa, 27 Agu 2024 10:04 WIB\">Selasa, 27 Agu 2024 10:04 WIB</span> </div>,\n",
       " <div class=\"media__date\">\n",
       " <span d-time=\"1724753488\" title=\"Selasa, 27 Agu 2024 17:11 WIB\">Selasa, 27 Agu 2024 17:11 WIB</span> </div>,\n",
       " <div class=\"media__date\">\n",
       " <span d-time=\"1724700340\" title=\"Selasa, 27 Agu 2024 02:25 WIB\">Selasa, 27 Agu 2024 02:25 WIB</span> </div>,\n",
       " <div class=\"media__date\">\n",
       " <span d-time=\"1724678313\" title=\"Senin, 26 Agu 2024 20:18 WIB\">Senin, 26 Agu 2024 20:18 WIB</span> </div>]"
      ]
     },
     "execution_count": 17,
     "metadata": {},
     "output_type": "execute_result"
    }
   ],
   "source": [
    "#date\n",
    "table.find_all('div', attrs={'class':'media__date'})"
   ]
  },
  {
   "cell_type": "markdown",
   "metadata": {},
   "source": [
    "Next, we need to find the row length."
   ]
  },
  {
   "cell_type": "code",
   "execution_count": 18,
   "metadata": {},
   "outputs": [
    {
     "data": {
      "text/plain": [
       "12"
      ]
     },
     "execution_count": 18,
     "metadata": {},
     "output_type": "execute_result"
    }
   ],
   "source": [
    "row = table.find_all('h3', attrs={'class':'media__title'})\n",
    "row_length = len(row)\n",
    "row_length\n"
   ]
  },
  {
   "cell_type": "markdown",
   "metadata": {},
   "source": [
    "Do the scrapping process here (please change this markdown with your explanation). \n",
    "\n",
    "> You can use a for loop to perform the scraping process in various ways depending on the HTML structure of the website you want to scrap and the information you want to retrieve."
   ]
  },
  {
   "cell_type": "code",
   "execution_count": 29,
   "metadata": {
    "ExecuteTime": {
     "end_time": "2020-01-13T05:12:24.008256Z",
     "start_time": "2020-01-13T05:12:23.980358Z"
    }
   },
   "outputs": [
    {
     "data": {
      "text/plain": [
       "[('Gempa M 4,1 Terjadi di Merangin Jambi',\n",
       "  'Gempa dengan kekuatan magnitudo (M) 4,1 terjadi di Merangin, Jambi. Pusat gempa berada di kedalaman 75 km.',\n",
       "  '2 jam yang lalu'),\n",
       " (\"BMKG Akui Upayakan 'Memprediksi' Gempa, Tapi Hasilnya...\",\n",
       "  'BMKG mengakui pihaknya mengupayakan \"memprediksi\" gempa bumi. Namun hasilnya...',\n",
       "  '56 menit yang lalu'),\n",
       " ('Tapsel Diguncang Gempa Berkekuatan M 3,3 Malam Ini',\n",
       "  'Gempa magnitudo 3,3 mengguncang Tapanuli Selatan pada 30 Agustus 2024, pukul 18.55 WIB. BMKG menyatakan tidak ada potensi tsunami.',\n",
       "  '6 menit yang lalu'),\n",
       " ('Mengenal Fungsi Alat Penerima Informasi Gempa Bumi dan Tsunami',\n",
       "  'Gempa berkekuatan magnitudo 3,4 mengguncang Kabupaten Tapanuli Tengah hari ini. Gempa tersebut terjadi pada pukul 16.09 WIB.',\n",
       "  'Kamis, 29 Agu 2024 14:00 WIB'),\n",
       " ('Gempa Berkekuatan M 3,4 Guncang Tapanuli Tengah Ini',\n",
       "  'Senin lalu (26/8/2024), terjadi gempa bumi di selatan Gunungkidul, Yogyakarta. Apakah termasuk gempa di zona megathrust?',\n",
       "  '2 jam yang lalu'),\n",
       " ('Penjelasan BMKG soal Gempa di Gunungkidul, Termasuk di Zona Megathrust atau Bukan?',\n",
       "  'Gempa bermagnitudo 6,2 terjadi di Tanimbar, Maluku. Gempa tidak berpotensi tsunami.',\n",
       "  'Kamis, 29 Agu 2024 14:30 WIB'),\n",
       " ('Gempa M 6,2 Guncang Tanimbar',\n",
       "  'Gempamagnitudo 4,9 terjadi di Nusa Tenggara Timur (NTT). Gempa memiliki kedalaman 16 km.',\n",
       "  'Selasa, 27 Agu 2024 09:33 WIB'),\n",
       " ('Momen Siswa SD Belajar Penanganan Bencana Gempa Bumi',\n",
       "  'Dua warga Pacitan cedera usai gempa Gunungkidul, Senin (26/8/2024). Mereka mengalami patah tulang dan sedang menjalani perawatan di RSUD dr Darsono, Pacitan.',\n",
       "  '4 jam yang lalu'),\n",
       " ('Gempa M 4,9 Guncang Sumba NTT',\n",
       "  'Sejumlah bangunan dilaporkan mengalami kerusakan imbas gempa M 5,8 di Yogyakarta, Senin(26/8). Total ada 13 bangunan yang mengalami kerusakan ringan.',\n",
       "  'Selasa, 27 Agu 2024 10:04 WIB'),\n",
       " ('2 Warga Pacitan Patah Tulang Dampak Gempa Gunungkidul',\n",
       "  'Yogyakarta dan sekitarnya diguncang gempa bermagnitudo (M) 5,8. Gempa ini berpusat di laut selatan Jawa.',\n",
       "  'Selasa, 27 Agu 2024 17:11 WIB'),\n",
       " ('13 Rumah Dilaporkan Rusak Akibat Gempa di Yogyakarta',\n",
       "  '',\n",
       "  'Selasa, 27 Agu 2024 02:25 WIB'),\n",
       " ('Gempa M 5,8 Guncang Yogya', '', 'Senin, 26 Agu 2024 20:18 WIB')]"
      ]
     },
     "execution_count": 29,
     "metadata": {},
     "output_type": "execute_result"
    }
   ],
   "source": [
    "temp = []  # Initiating a tuple\n",
    "for i in range(0, 12):\n",
    "    # Scraping process\n",
    "    # You can add your scraping code here\n",
    "    # get title\n",
    "    title= table.find_all('h3', attrs={'class':'media__title'})[i].text.strip()\n",
    "    #get description\n",
    "    try:\n",
    "        media_desc= table.find_all('div', attrs={'class':'media__desc'})[i].text.strip()\n",
    "    except:\n",
    "        media_desc = ''\n",
    "    \n",
    "    #date\n",
    "    try:\n",
    "        media_date = table.find_all('div', attrs={'class':'media__date'})[i].text.strip()\n",
    "    except:\n",
    "        media_date = ''\n",
    "        \n",
    "    temp.append ((title, media_desc,media_date))\n",
    "    \n",
    "temp"
   ]
  },
  {
   "cell_type": "markdown",
   "metadata": {},
   "source": [
    "Note: You can customize the code inside the loop according to your needs to extract the desired information from the website you scrap. Make sure to check and adjust the code well to suit the HTML structure and information you want to retrieve."
   ]
  },
  {
   "cell_type": "markdown",
   "metadata": {},
   "source": [
    "## Creating data frame & Data wrangling"
   ]
  },
  {
   "cell_type": "markdown",
   "metadata": {},
   "source": [
    "Once we have extracted the data, we can put it into a dataframe."
   ]
  },
  {
   "cell_type": "code",
   "execution_count": 42,
   "metadata": {
    "ExecuteTime": {
     "end_time": "2020-01-13T05:12:41.517372Z",
     "start_time": "2020-01-13T05:12:29.130015Z"
    }
   },
   "outputs": [
    {
     "data": {
      "text/html": [
       "<div>\n",
       "<style scoped>\n",
       "    .dataframe tbody tr th:only-of-type {\n",
       "        vertical-align: middle;\n",
       "    }\n",
       "\n",
       "    .dataframe tbody tr th {\n",
       "        vertical-align: top;\n",
       "    }\n",
       "\n",
       "    .dataframe thead th {\n",
       "        text-align: right;\n",
       "    }\n",
       "</style>\n",
       "<table border=\"1\" class=\"dataframe\">\n",
       "  <thead>\n",
       "    <tr style=\"text-align: right;\">\n",
       "      <th></th>\n",
       "      <th>title</th>\n",
       "      <th>media_desc</th>\n",
       "      <th>media_date</th>\n",
       "    </tr>\n",
       "  </thead>\n",
       "  <tbody>\n",
       "    <tr>\n",
       "      <th>0</th>\n",
       "      <td>Gempa M 4,1 Terjadi di Merangin Jambi</td>\n",
       "      <td>Gempa dengan kekuatan magnitudo (M) 4,1 terjad...</td>\n",
       "      <td>2 jam yang lalu</td>\n",
       "    </tr>\n",
       "    <tr>\n",
       "      <th>1</th>\n",
       "      <td>BMKG Akui Upayakan 'Memprediksi' Gempa, Tapi H...</td>\n",
       "      <td>BMKG mengakui pihaknya mengupayakan \"mempredik...</td>\n",
       "      <td>56 menit yang lalu</td>\n",
       "    </tr>\n",
       "    <tr>\n",
       "      <th>2</th>\n",
       "      <td>Tapsel Diguncang Gempa Berkekuatan M 3,3 Malam...</td>\n",
       "      <td>Gempa magnitudo 3,3 mengguncang Tapanuli Selat...</td>\n",
       "      <td>6 menit yang lalu</td>\n",
       "    </tr>\n",
       "    <tr>\n",
       "      <th>3</th>\n",
       "      <td>Mengenal Fungsi Alat Penerima Informasi Gempa ...</td>\n",
       "      <td>Gempa berkekuatan magnitudo 3,4 mengguncang Ka...</td>\n",
       "      <td>Kamis, 29 Agu 2024 14:00 WIB</td>\n",
       "    </tr>\n",
       "    <tr>\n",
       "      <th>4</th>\n",
       "      <td>Gempa Berkekuatan M 3,4 Guncang Tapanuli Tenga...</td>\n",
       "      <td>Senin lalu (26/8/2024), terjadi gempa bumi di ...</td>\n",
       "      <td>2 jam yang lalu</td>\n",
       "    </tr>\n",
       "    <tr>\n",
       "      <th>5</th>\n",
       "      <td>Penjelasan BMKG soal Gempa di Gunungkidul, Ter...</td>\n",
       "      <td>Gempa bermagnitudo 6,2 terjadi di Tanimbar, Ma...</td>\n",
       "      <td>Kamis, 29 Agu 2024 14:30 WIB</td>\n",
       "    </tr>\n",
       "    <tr>\n",
       "      <th>6</th>\n",
       "      <td>Gempa M 6,2 Guncang Tanimbar</td>\n",
       "      <td>Gempamagnitudo 4,9 terjadi di Nusa Tenggara Ti...</td>\n",
       "      <td>Selasa, 27 Agu 2024 09:33 WIB</td>\n",
       "    </tr>\n",
       "    <tr>\n",
       "      <th>7</th>\n",
       "      <td>Momen Siswa SD Belajar Penanganan Bencana Gemp...</td>\n",
       "      <td>Dua warga Pacitan cedera usai gempa Gunungkidu...</td>\n",
       "      <td>4 jam yang lalu</td>\n",
       "    </tr>\n",
       "    <tr>\n",
       "      <th>8</th>\n",
       "      <td>Gempa M 4,9 Guncang Sumba NTT</td>\n",
       "      <td>Sejumlah bangunan dilaporkan mengalami kerusak...</td>\n",
       "      <td>Selasa, 27 Agu 2024 10:04 WIB</td>\n",
       "    </tr>\n",
       "    <tr>\n",
       "      <th>9</th>\n",
       "      <td>2 Warga Pacitan Patah Tulang Dampak Gempa Gunu...</td>\n",
       "      <td>Yogyakarta dan sekitarnya diguncang gempa berm...</td>\n",
       "      <td>Selasa, 27 Agu 2024 17:11 WIB</td>\n",
       "    </tr>\n",
       "    <tr>\n",
       "      <th>10</th>\n",
       "      <td>13 Rumah Dilaporkan Rusak Akibat Gempa di Yogy...</td>\n",
       "      <td></td>\n",
       "      <td>Selasa, 27 Agu 2024 02:25 WIB</td>\n",
       "    </tr>\n",
       "    <tr>\n",
       "      <th>11</th>\n",
       "      <td>Gempa M 5,8 Guncang Yogya</td>\n",
       "      <td></td>\n",
       "      <td>Senin, 26 Agu 2024 20:18 WIB</td>\n",
       "    </tr>\n",
       "  </tbody>\n",
       "</table>\n",
       "</div>"
      ],
      "text/plain": [
       "                                                title  \\\n",
       "0               Gempa M 4,1 Terjadi di Merangin Jambi   \n",
       "1   BMKG Akui Upayakan 'Memprediksi' Gempa, Tapi H...   \n",
       "2   Tapsel Diguncang Gempa Berkekuatan M 3,3 Malam...   \n",
       "3   Mengenal Fungsi Alat Penerima Informasi Gempa ...   \n",
       "4   Gempa Berkekuatan M 3,4 Guncang Tapanuli Tenga...   \n",
       "5   Penjelasan BMKG soal Gempa di Gunungkidul, Ter...   \n",
       "6                        Gempa M 6,2 Guncang Tanimbar   \n",
       "7   Momen Siswa SD Belajar Penanganan Bencana Gemp...   \n",
       "8                       Gempa M 4,9 Guncang Sumba NTT   \n",
       "9   2 Warga Pacitan Patah Tulang Dampak Gempa Gunu...   \n",
       "10  13 Rumah Dilaporkan Rusak Akibat Gempa di Yogy...   \n",
       "11                          Gempa M 5,8 Guncang Yogya   \n",
       "\n",
       "                                           media_desc  \\\n",
       "0   Gempa dengan kekuatan magnitudo (M) 4,1 terjad...   \n",
       "1   BMKG mengakui pihaknya mengupayakan \"mempredik...   \n",
       "2   Gempa magnitudo 3,3 mengguncang Tapanuli Selat...   \n",
       "3   Gempa berkekuatan magnitudo 3,4 mengguncang Ka...   \n",
       "4   Senin lalu (26/8/2024), terjadi gempa bumi di ...   \n",
       "5   Gempa bermagnitudo 6,2 terjadi di Tanimbar, Ma...   \n",
       "6   Gempamagnitudo 4,9 terjadi di Nusa Tenggara Ti...   \n",
       "7   Dua warga Pacitan cedera usai gempa Gunungkidu...   \n",
       "8   Sejumlah bangunan dilaporkan mengalami kerusak...   \n",
       "9   Yogyakarta dan sekitarnya diguncang gempa berm...   \n",
       "10                                                      \n",
       "11                                                      \n",
       "\n",
       "                       media_date  \n",
       "0                 2 jam yang lalu  \n",
       "1              56 menit yang lalu  \n",
       "2               6 menit yang lalu  \n",
       "3    Kamis, 29 Agu 2024 14:00 WIB  \n",
       "4                 2 jam yang lalu  \n",
       "5    Kamis, 29 Agu 2024 14:30 WIB  \n",
       "6   Selasa, 27 Agu 2024 09:33 WIB  \n",
       "7                 4 jam yang lalu  \n",
       "8   Selasa, 27 Agu 2024 10:04 WIB  \n",
       "9   Selasa, 27 Agu 2024 17:11 WIB  \n",
       "10  Selasa, 27 Agu 2024 02:25 WIB  \n",
       "11   Senin, 26 Agu 2024 20:18 WIB  "
      ]
     },
     "execution_count": 42,
     "metadata": {},
     "output_type": "execute_result"
    }
   ],
   "source": [
    "import pandas as pd\n",
    "\n",
    "df = pd.DataFrame(temp,columns=('title', 'media_desc' ,'media_date'))\n",
    "df\n"
   ]
  },
  {
   "cell_type": "code",
   "execution_count": 23,
   "metadata": {},
   "outputs": [
    {
     "data": {
      "text/plain": [
       "title         object\n",
       "media_desc    object\n",
       "media_date    object\n",
       "dtype: object"
      ]
     },
     "execution_count": 23,
     "metadata": {},
     "output_type": "execute_result"
    }
   ],
   "source": [
    "df.dtypes"
   ]
  },
  {
   "cell_type": "markdown",
   "metadata": {},
   "source": [
    "### Data Cleansing\n",
    "\n",
    "disini kita lihat type data dan data yang not available, karena disini yang kita lihat adalah word cloud, data media date tidak bisa diubah ke date time karena formatnya berbeda, dari isna juga tidak ada."
   ]
  },
  {
   "cell_type": "code",
   "execution_count": 31,
   "metadata": {
    "ExecuteTime": {
     "end_time": "2020-01-13T05:12:59.165559Z",
     "start_time": "2020-01-13T05:12:58.910012Z"
    }
   },
   "outputs": [
    {
     "data": {
      "text/plain": [
       "<bound method DataFrame.isna of                                                 title  \\\n",
       "0               Gempa M 4,1 Terjadi di Merangin Jambi   \n",
       "1   BMKG Akui Upayakan 'Memprediksi' Gempa, Tapi H...   \n",
       "2   Tapsel Diguncang Gempa Berkekuatan M 3,3 Malam...   \n",
       "3   Mengenal Fungsi Alat Penerima Informasi Gempa ...   \n",
       "4   Gempa Berkekuatan M 3,4 Guncang Tapanuli Tenga...   \n",
       "5   Penjelasan BMKG soal Gempa di Gunungkidul, Ter...   \n",
       "6                        Gempa M 6,2 Guncang Tanimbar   \n",
       "7   Momen Siswa SD Belajar Penanganan Bencana Gemp...   \n",
       "8                       Gempa M 4,9 Guncang Sumba NTT   \n",
       "9   2 Warga Pacitan Patah Tulang Dampak Gempa Gunu...   \n",
       "10  13 Rumah Dilaporkan Rusak Akibat Gempa di Yogy...   \n",
       "11                          Gempa M 5,8 Guncang Yogya   \n",
       "\n",
       "                                           media_desc  \\\n",
       "0   Gempa dengan kekuatan magnitudo (M) 4,1 terjad...   \n",
       "1   BMKG mengakui pihaknya mengupayakan \"mempredik...   \n",
       "2   Gempa magnitudo 3,3 mengguncang Tapanuli Selat...   \n",
       "3   Gempa berkekuatan magnitudo 3,4 mengguncang Ka...   \n",
       "4   Senin lalu (26/8/2024), terjadi gempa bumi di ...   \n",
       "5   Gempa bermagnitudo 6,2 terjadi di Tanimbar, Ma...   \n",
       "6   Gempamagnitudo 4,9 terjadi di Nusa Tenggara Ti...   \n",
       "7   Dua warga Pacitan cedera usai gempa Gunungkidu...   \n",
       "8   Sejumlah bangunan dilaporkan mengalami kerusak...   \n",
       "9   Yogyakarta dan sekitarnya diguncang gempa berm...   \n",
       "10                                                      \n",
       "11                                                      \n",
       "\n",
       "                       media_date  \n",
       "0                 2 jam yang lalu  \n",
       "1              56 menit yang lalu  \n",
       "2               6 menit yang lalu  \n",
       "3    Kamis, 29 Agu 2024 14:00 WIB  \n",
       "4                 2 jam yang lalu  \n",
       "5    Kamis, 29 Agu 2024 14:30 WIB  \n",
       "6   Selasa, 27 Agu 2024 09:33 WIB  \n",
       "7                 4 jam yang lalu  \n",
       "8   Selasa, 27 Agu 2024 10:04 WIB  \n",
       "9   Selasa, 27 Agu 2024 17:11 WIB  \n",
       "10  Selasa, 27 Agu 2024 02:25 WIB  \n",
       "11   Senin, 26 Agu 2024 20:18 WIB  >"
      ]
     },
     "execution_count": 31,
     "metadata": {},
     "output_type": "execute_result"
    }
   ],
   "source": [
    "df.isna\n"
   ]
  },
  {
   "cell_type": "markdown",
   "metadata": {},
   "source": [
    "### Data Visualization\n",
    "\n",
    "Data visualisasi disini akan dibuat dalam tampilan word cloud oleh karena itu perlu mengimport wordcloud dan matplotlib. lalu dibuat coding word cloud nya"
   ]
  },
  {
   "cell_type": "code",
   "execution_count": 39,
   "metadata": {},
   "outputs": [],
   "source": [
    "import re\n",
    "from wordcloud import WordCloud, STOPWORDS\n",
    "import matplotlib.pyplot as plt"
   ]
  },
  {
   "cell_type": "markdown",
   "metadata": {},
   "source": [
    "### Implementing your webscrapping to the flask dashboard\n",
    "\n",
    "- Copy paste all of your web scrapping process to the desired position on the `app.py`\n",
    "- Change the title of the dashboard in `index.html`"
   ]
  },
  {
   "cell_type": "markdown",
   "metadata": {},
   "source": [
    "## Finishing This Notebook with Your Analysis and Conclusion\n",
    "\n",
    "First you can do start with making the data visualization."
   ]
  },
  {
   "cell_type": "code",
   "execution_count": 41,
   "metadata": {
    "ExecuteTime": {
     "end_time": "2020-01-13T05:20:56.208237Z",
     "start_time": "2020-01-13T05:20:56.076043Z"
    }
   },
   "outputs": [
    {
     "data": {
      "image/png": "[encoded data removed]",
      "text/plain": [
       "<Figure size 2000x1000 with 1 Axes>"
      ]
     },
     "metadata": {},
     "output_type": "display_data"
    }
   ],
   "source": [
    "# Join the different processed titles together.\n",
    "long_string = ','.join(list(df['title'].values))\n",
    "# Create a WordCloud object\n",
    "wordcloud = WordCloud(background_color=\"white\", max_words=5000, contour_width=3, \n",
    "contour_color='steelblue')# Generate a word cloud\n",
    "wordcloud.generate(long_string)# Visualize the word cloud\n",
    "plt.figure( figsize=(20,10) )\n",
    "plt.imshow(wordcloud)\n",
    "plt.show()"
   ]
  },
  {
   "cell_type": "markdown",
   "metadata": {},
   "source": [
    "## Analysis\n",
    "\n",
    "Dari detik.com, diperoleh ada 12 data mengenai gempa. Dari tanggal 26 Agustus 2024 hingga 30 Agustus 2024, di waktu real kurang 6 menit. "
   ]
  },
  {
   "cell_type": "markdown",
   "metadata": {},
   "source": [
    "### Extra Challange\n",
    "\n",
    "This will be not included to the scoring. \n",
    "\n",
    "- You can create additional visualization/analysis from the data.\n",
    "- Implement it to the dashboard with at `app.py` dan `index.html`."
   ]
  }
 ],
 "metadata": {
  "kernelspec": {
   "display_name": "capstone_da",
   "language": "python",
   "name": "python3"
  },
  "language_info": {
   "codemirror_mode": {
    "name": "ipython",
    "version": 3
   },
   "file_extension": ".py",
   "mimetype": "text/x-python",
   "name": "python",
   "nbconvert_exporter": "python",
   "pygments_lexer": "ipython3",
   "version": "3.12.4"
  }
 },
 "nbformat": 4,
 "nbformat_minor": 2
}
